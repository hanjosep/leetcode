{
 "cells": [
  {
   "cell_type": "code",
   "execution_count": 28,
   "metadata": {},
   "outputs": [
    {
     "data": {
      "text/plain": [
       "5"
      ]
     },
     "execution_count": 28,
     "metadata": {},
     "output_type": "execute_result"
    }
   ],
   "source": [
    "b = bin(int('11'))\n",
    "b[2:]\n",
    "int('0b11',2) + int('0b10',2)\n",
    "\n",
    "\n",
    "# b.encode('utf-8')\n"
   ]
  },
  {
   "cell_type": "code",
   "execution_count": 31,
   "metadata": {},
   "outputs": [
    {
     "data": {
      "text/plain": [
       "'123'"
      ]
     },
     "execution_count": 31,
     "metadata": {},
     "output_type": "execute_result"
    }
   ],
   "source": [
    "l = [1,2,3]\n",
    "ls = ''\n",
    "\n",
    "for a in l:\n",
    "    ls = ls + str(a)\n",
    "ls"
   ]
  },
  {
   "cell_type": "code",
   "execution_count": 35,
   "metadata": {},
   "outputs": [
    {
     "data": {
      "text/plain": [
       "['123']"
      ]
     },
     "execution_count": 35,
     "metadata": {},
     "output_type": "execute_result"
    }
   ],
   "source": [
    "'123'.split()\n",
    "\n",
    "\n"
   ]
  },
  {
   "cell_type": "code",
   "execution_count": 43,
   "metadata": {},
   "outputs": [],
   "source": [
    "c=[1,2,3]\n",
    "cs = [str(i) for i in c]\n",
    "d = ''.join(cs)\n",
    "intd = int(d)\n"
   ]
  },
  {
   "cell_type": "code",
   "execution_count": 45,
   "metadata": {},
   "outputs": [],
   "source": [
    "s = 1 if True else 2"
   ]
  },
  {
   "cell_type": "code",
   "execution_count": 23,
   "metadata": {},
   "outputs": [
    {
     "name": "stdout",
     "output_type": "stream",
     "text": [
      "0 t 0\n",
      "t not in {}\n",
      "1 m 0\n",
      "m not in {'t': 0}\n",
      "2 m 0\n",
      "m {'t': 0, 'm': 1} 0 <= 1\n",
      "2\n",
      "3 z 2\n",
      "z not in {'t': 0, 'm': 2}\n",
      "4 u 2\n",
      "u not in {'t': 0, 'm': 2, 'z': 3}\n",
      "5 x 2\n",
      "x not in {'t': 0, 'm': 2, 'z': 3, 'u': 4}\n",
      "6 t 2\n",
      "2 > 0 t {'t': 0, 'm': 2, 'z': 3, 'u': 4, 'x': 5}\n"
     ]
    },
    {
     "data": {
      "text/plain": [
       "5"
      ]
     },
     "execution_count": 23,
     "metadata": {},
     "output_type": "execute_result"
    }
   ],
   "source": [
    "#https://leetcode.com/problems/longest-substring-without-repeating-characters/discuss/1731/A-Python-solution-85ms-O(n)\n",
    "def lols(s:str):  \n",
    "    start = max_length = 0\n",
    "    used_char = {}\n",
    "    for index,char in enumerate(s):\n",
    "        print(index,char, start)\n",
    "        if char in used_char and start <= used_char[char]:\n",
    "            print(char,used_char,'%s <= %s'% (start,used_char[char]))\n",
    "\n",
    "\n",
    "            start = used_char[s[index]] + 1\n",
    "            print(start)\n",
    "        else:\n",
    "            try:\n",
    "                if char not in used_char:\n",
    "                    print(char,'not in', used_char)\n",
    "            except:\n",
    "                pass\n",
    "            try:\n",
    "\n",
    "                if start > used_char[char]:\n",
    "                    print(start, '>', used_char[char], char,used_char)\n",
    "            except:\n",
    "                pass\n",
    "            max_length = max(max_length, index - start +1)\n",
    "\n",
    "        used_char[s[index]] = index\n",
    "    return max_length\n",
    "\n",
    "\n",
    "\n",
    "lols('tmmzuxt')\n"
   ]
  },
  {
   "cell_type": "code",
   "execution_count": 56,
   "metadata": {},
   "outputs": [
    {
     "data": {
      "text/plain": [
       "{'a': 3}"
      ]
     },
     "execution_count": 56,
     "metadata": {},
     "output_type": "execute_result"
    }
   ],
   "source": [
    "d = {}\n",
    "d['a'] = 2\n",
    "d['a'] += 1\n",
    "d"
   ]
  },
  {
   "cell_type": "markdown",
   "metadata": {},
   "source": [
    "foo foo\n",
    "[{f:2}, {o:2} , {o:2}]"
   ]
  },
  {
   "cell_type": "code",
   "execution_count": 40,
   "metadata": {},
   "outputs": [
    {
     "data": {
      "text/plain": [
       "[{'a': 2, 'b': 2}, {'b': 2, 'a': 2}]"
      ]
     },
     "execution_count": 40,
     "metadata": {},
     "output_type": "execute_result"
    }
   ],
   "source": [
    "def dictize_string(s):\n",
    "    '''\n",
    "    dictize_string(string) -> dict:\n",
    "    count how many time a character occurs in a given string.\n",
    "    '''\n",
    "    result = {}\n",
    "    for i in s:\n",
    "        # print(i)\n",
    "        if i in result:\n",
    "            result[i] +=1\n",
    "        else:\n",
    "            result[i]= 1\n",
    "    # print(result)\n",
    "\n",
    "    return result\n",
    "\n",
    "def string_zip(l):\n",
    "    '''\n",
    "    a list of strings are returned so that each respective indices are returned in a zipped list\n",
    "    '''\n",
    "    res = []\n",
    "    for i in range(len(l[0])):\n",
    "        res.append(''.join([s[i] for s in l]))\n",
    "    return res\n",
    "\n",
    "def dictize_list(zipped_l):\n",
    "    '''\n",
    "    dictize_list: given a zipped string list, we apply dictize_string to\n",
    "    count how many times a given character occurs at its respective index.\n",
    "    '''\n",
    "    res = []\n",
    "    for s in zipped_l:\n",
    "        res.append(dictize_string(s))\n",
    "    return res\n",
    "d  = [\"ab\",\"ba\",\"ab\",\"ba\"]\n",
    "string_zip(d)\n",
    "dictize_list(string_zip(d))\n"
   ]
  },
  {
   "cell_type": "code",
   "execution_count": 33,
   "metadata": {},
   "outputs": [],
   "source": [
    "def split_by_len(s, x):\n",
    "    chunk, chunk_size = len(s), len(s)//x\n",
    "    result = [s[i: i+ chunk_size] for i in range(0, chunk, chunk_size)]\n",
    "    return result\n",
    "\n",
    "\n",
    "def split_by_wordlen(s, wordlen):\n",
    "    '''\n",
    "    given a string, split by the given length. \n",
    "    '''\n",
    "    return [s[i:i+wordlen] for i in range(0, len(s), wordlen)]\n",
    "d = split_by_wordlen('abcdefGHIJKL',3)\n"
   ]
  },
  {
   "cell_type": "code",
   "execution_count": 50,
   "metadata": {},
   "outputs": [
    {
     "name": "stdout",
     "output_type": "stream",
     "text": [
      "substring too short; ending loop 16\n"
     ]
    },
    {
     "data": {
      "text/plain": [
       "[6, 9, 12]"
      ]
     },
     "execution_count": 50,
     "metadata": {},
     "output_type": "execute_result"
    }
   ],
   "source": [
    "def findSubstring(s:str, words:list):\n",
    "    wlen = len(words[0])\n",
    "    substring_len = len(words[0]) * len(words)\n",
    "    check = dictize_list(string_zip(words))\n",
    "    res = []\n",
    "    for start_index in range(len(s)):\n",
    "        if len(s) < substring_len + start_index:\n",
    "            print('substring too short; ending loop', start_index)\n",
    "            break\n",
    "        substring_temp= s[start_index: start_index + substring_len]\n",
    "        split_substring_temp = split_by_wordlen(substring_temp, wlen)\n",
    "        if sorted(split_substring_temp) == sorted(words):\n",
    "\n",
    "\n",
    "            # print(split_substring_temp)\n",
    "            \n",
    "            temp_check = dictize_list(string_zip(split_substring_temp))\n",
    "            if temp_check == check:\n",
    "                # print(temp_check, check, substring_temp)\n",
    "\n",
    "                res.append(start_index)\n",
    "    return res\n",
    "# findSubstring('barfoothefoobarman',['foo','bar'])\n",
    "# findSubstring('wordgoodgoodgoodbestword',[\"word\",\"good\",\"best\",\"word\"])\n",
    "\n",
    "d  = [\"ab\",\"ba\",\"ab\",\"ba\"]\n",
    "findSubstring('barfoofoobarthefoobarman', [\"bar\",\"foo\",\"the\"])\n",
    "# findSubstring('abaababbaba', [\"ab\",\"ba\",\"ab\",\"ba\"])\n",
    "# dictize_list(string_zip(d))\n",
    "\n",
    "\n",
    "\n",
    "# Zipping the list of strings breaks the ordering of the words themselves. use Bag of words instead using collections.Counter and defaultdict.\n",
    "\n",
    "        "
   ]
  },
  {
   "cell_type": "code",
   "execution_count": 66,
   "metadata": {},
   "outputs": [
    {
     "data": {
      "text/plain": [
       "[1, 3]"
      ]
     },
     "execution_count": 66,
     "metadata": {},
     "output_type": "execute_result"
    }
   ],
   "source": [
    "# https://leetcode.com/problems/substring-with-concatenation-of-all-words/discuss/13658/Easy-Two-Map-Solution-(C%2B%2BJava)\n",
    "from collections import Counter, defaultdict\n",
    "Counter(d)\n",
    "i = 0\n",
    "a = defaultdict(int)\n",
    "\n",
    "def findSubstring(s, words):\n",
    "    '''\n",
    "    word_bag = bag of words that are counted in frequency\n",
    "    we are searching the indices where the substring will generate a bag of words that matches in frequency with word_bag.\n",
    "    \n",
    "    '''\n",
    "    res = []\n",
    "    word_bag = Counter(words) \n",
    "    word_len = len(words[0])\n",
    "    num_words = len(words)\n",
    "    total_len = word_len * num_words\n",
    "    for i in range(len(s) - total_len + 1):\n",
    "        # int allows the word to be iterable as integers\n",
    "        seen = defaultdict(int)\n",
    "        for j in range(i, i + total_len, word_len):\n",
    "            current_word = s[j:j+word_len]\n",
    "            if current_word in word_bag:\n",
    "                seen[current_word] += 1\n",
    "                if seen[current_word] > word_bag[current_word]:\n",
    "                    break\n",
    "            else:\n",
    "                break\n",
    "        if seen ==word_bag:\n",
    "            res.append(i)\n",
    "\n",
    "    return res\n",
    "findSubstring('abaababbaba', [\"ab\",\"ba\",\"ab\",\"ba\"])\n",
    "\n",
    "\n",
    "\n"
   ]
  },
  {
   "cell_type": "code",
   "execution_count": 305,
   "metadata": {},
   "outputs": [
    {
     "name": "stdout",
     "output_type": "stream",
     "text": [
      "0 0\n",
      "0\n",
      "1\n",
      "2\n",
      "3\n",
      "cabefgecdaecf cabe\n",
      "matched cabe cabe 1\n",
      "1 1\n",
      "1\n",
      "2\n",
      "3\n",
      "4\n",
      "5\n",
      "6\n",
      "7\n",
      "cabe abefgec\n",
      "matched abefgec abefgec 2\n",
      "2 2\n",
      "2\n",
      "3\n",
      "4\n",
      "5\n",
      "6\n",
      "7\n",
      "8\n",
      "9\n",
      "cabe ecda\n",
      "matched befgecda ecda 7\n",
      "cont 1 3 7\n",
      "cont 1 4 7\n",
      "cont 1 5 7\n",
      "cont 1 6 7\n",
      "7 7\n",
      "7\n",
      "8\n",
      "9\n",
      "10\n",
      "cabe cdae\n",
      "matched cdae cdae 8\n",
      "8 8\n",
      "8\n",
      "9\n",
      "10\n",
      "11\n",
      "cabe aec\n",
      "matched daec aec 10\n",
      "cont 1 9 10\n",
      "10 10\n",
      "10\n",
      "11\n",
      "12\n",
      "11 10\n",
      "11\n",
      "12\n",
      "12 10\n",
      "12\n"
     ]
    },
    {
     "data": {
      "text/plain": [
       "'aec'"
      ]
     },
     "execution_count": 305,
     "metadata": {},
     "output_type": "execute_result"
    }
   ],
   "source": [
    "# https://leetcode.com/problems/minimum-window-substring/\n",
    "from collections import Counter, defaultdict\n",
    "# from copy import deepcopy\n",
    "def reverse_min_sub(s, t):\n",
    "    t_temp = Counter(t)\n",
    "    for i in range(len(s)-1, -1, -1):\n",
    "        if s[i] in t_temp:\n",
    "            if t_temp[s[i]] == 1:\n",
    "                del t_temp[s[i]]\n",
    "            else:\n",
    "                t_temp[s[i]] -= 1\n",
    "        if sum(t_temp.values()) == 1:\n",
    "            new_i = i\n",
    "        if t_temp == Counter():\n",
    "            return (s[i:len(s)], new_i)\n",
    "def minWindow(s,t):\n",
    "    # t_bag = Counter(t) #bag of chars to match in traverse\n",
    "    final_string = s\n",
    "    # t_temp2 = deepcopy(t_bag)\n",
    "    start = 0\n",
    "    matched = False\n",
    "    for i in range(0, len(s)):\n",
    "        if i < start:\n",
    "            print('cont 1', i, start)\n",
    "            continue\n",
    "        # if i > end:\n",
    "        #     continue\n",
    "        # t_temp2 = deepcopy(t_bag)\n",
    "        t_temp2 = Counter(t)\n",
    "        print(i,start)\n",
    "        for j in range(i, len(s)):\n",
    "            print(j)\n",
    "            if j < start:\n",
    "                print('continuing')\n",
    "                continue\n",
    "            if s[j] in t_temp2.keys():\n",
    "                if t_temp2[s[j]] == 1:\n",
    "                    del t_temp2[s[j]]\n",
    "                else:\n",
    "                    t_temp2[s[j]] -= 1\n",
    "            if t_temp2 == Counter():\n",
    "                matched = True\n",
    "                new_string, new_i = reverse_min_sub(s[i:j+1], t)\n",
    "                print(final_string, new_string)\n",
    "                final_string = min(final_string, new_string, key = len)\n",
    "                start = i + new_i\n",
    "                print('matched', s[i:j+1],new_string, start)\n",
    "                break\n",
    "    if matched:\n",
    "        return final_string\n",
    "    else:\n",
    "        return ''\n",
    "            \n",
    "# minWindow('ADOBECODEBANC', 'ABC')\n",
    "# minWindow(\"aaaaaaaaaaaabbbbbcdd\",\"abcdd\")\n",
    "# minWindow('a','a')\n",
    "minWindow(\"cabefgecdaecf\",\"cae\")\n",
    "\n",
    "# minWindow('bdab', 'ab')\n",
    "# expect 'abbbbbcdd'\n",
    "\n"
   ]
  },
  {
   "cell_type": "markdown",
   "metadata": {},
   "source": []
  },
  {
   "cell_type": "code",
   "execution_count": 334,
   "metadata": {},
   "outputs": [
    {
     "data": {
      "text/plain": [
       "292"
      ]
     },
     "execution_count": 334,
     "metadata": {},
     "output_type": "execute_result"
    }
   ],
   "source": [
    "t = 213\n",
    "nums = [12,28,83,4,25,26,25,2,25,25,25,12]\n",
    "len(nums)\n",
    "sum(nums[0:14])\n"
   ]
  },
  {
   "cell_type": "code",
   "execution_count": 376,
   "metadata": {},
   "outputs": [
    {
     "name": "stdout",
     "output_type": "stream",
     "text": [
      "213\n",
      "0 12 12\n",
      "1 28 40\n",
      "2 83 123\n",
      "3 4 127\n",
      "4 25 152\n",
      "5 26 178\n",
      "6 25 203\n",
      "7 2 205\n",
      "removing 12 new l =  0\n",
      "8 25 218\n",
      "removing 12 new l =  0\n",
      "9 25 231\n",
      "removing 12 new l =  0\n",
      "removing 28 new l =  1\n",
      "10 25 216\n",
      "11 12 228\n",
      "1 11\n",
      "7\n",
      "0 2 2\n",
      "1 3 5\n",
      "2 1 6\n",
      "3 2 8\n",
      "removing 2 new l =  0\n",
      "removing 3 new l =  1\n",
      "4 4 7\n",
      "removing 3 new l =  1\n",
      "5 3 7\n",
      "1 5\n",
      "15\n",
      "0 1 1\n",
      "1 2 3\n",
      "2 3 6\n",
      "3 4 10\n",
      "4 5 15\n",
      "0 4\n"
     ]
    }
   ],
   "source": [
    "def minSubArrayLen(target, nums):\n",
    "    temp_sum = 0\n",
    "    print(target)\n",
    "    l=r = 0\n",
    "    for i, c in enumerate(nums):\n",
    "        if temp_sum + c >= target:\n",
    "            r = i\n",
    "        temp_sum += c\n",
    "        for k in range(l,r):\n",
    "            if temp_sum - nums[k] >= target:\n",
    "                print('removing',nums[k],'new l = ', k)\n",
    "                l = k\n",
    "                temp_sum -= nums[k]\n",
    "                \n",
    "            else:\n",
    "                break\n",
    "\n",
    "        print(i, c, temp_sum)\n",
    "    # print(len(nums))\n",
    "\n",
    "    print(l,r)\n",
    "minSubArrayLen(t, nums)\n",
    "bt = 7\n",
    "bn = [2,3,1,2,4,3]\n",
    "minSubArrayLen(bt,bn)\n",
    "ct= 15\n",
    "cn = [1,2,3,4,5]\n",
    "minSubArrayLen(ct,cn)"
   ]
  },
  {
   "cell_type": "code",
   "execution_count": null,
   "metadata": {},
   "outputs": [],
   "source": []
  },
  {
   "cell_type": "code",
   "execution_count": 361,
   "metadata": {},
   "outputs": [
    {
     "name": "stdout",
     "output_type": "stream",
     "text": [
      "0 28\n",
      "1 83\n",
      "2 4\n"
     ]
    }
   ],
   "source": [
    "for i, c in  enumerate(nums[1:4]):\n",
    "    print(i,c)"
   ]
  },
  {
   "cell_type": "code",
   "execution_count": null,
   "metadata": {},
   "outputs": [],
   "source": []
  },
  {
   "cell_type": "code",
   "execution_count": null,
   "metadata": {},
   "outputs": [],
   "source": []
  },
  {
   "cell_type": "code",
   "execution_count": null,
   "metadata": {},
   "outputs": [],
   "source": []
  },
  {
   "cell_type": "code",
   "execution_count": null,
   "metadata": {},
   "outputs": [],
   "source": []
  },
  {
   "cell_type": "code",
   "execution_count": 380,
   "metadata": {},
   "outputs": [
    {
     "data": {
      "text/plain": [
       "1"
      ]
     },
     "execution_count": 380,
     "metadata": {},
     "output_type": "execute_result"
    }
   ],
   "source": [
    "a, b = (1,2)\n",
    "a,b = b,a\n",
    "a\n",
    "b"
   ]
  },
  {
   "cell_type": "code",
   "execution_count": 439,
   "metadata": {},
   "outputs": [
    {
     "name": "stdout",
     "output_type": "stream",
     "text": [
      "3\n",
      "1\n",
      "4\n",
      "0\n",
      "5\n",
      "2\n"
     ]
    }
   ],
   "source": [
    "class TreeNode:\n",
    "    def __init__(self, val=0, left=None, right=None):\n",
    "        self.val = val\n",
    "        self.left = left\n",
    "        self.right = right\n",
    "    def insert_level_order(self, arr, root, i, n):\n",
    "        if i < n: \n",
    "            temp= TreeNode(arr[i])\n",
    "            root = temp \n",
    "            root.left = self.insert_level_order(arr, root.left, 2 * i + 1, n)\n",
    "            root.right = self.insert_level_order(arr,root.right, 2*i+2,n)\n",
    "\n",
    "        return root\n",
    "\n",
    "    def print(self):\n",
    "        if self.left:\n",
    "            self.left.print()\n",
    "        print(self.val)\n",
    "        if self.right:\n",
    "            self.right.print()\n",
    "def print_inorder(root):\n",
    "    if root != None:\n",
    "        print_inorder(root.left)\n",
    "        print(root.val, end = ' ')\n",
    "        print_inorder(root.right)\n",
    "            \n",
    "extree = TreeNode(1,TreeNode(2),TreeNode(3))\n",
    "\n",
    "def invert_tree(root):\n",
    "    res = TreeNode(root.val)\n",
    "    if root.left is None and root.right is None:\n",
    "        return TreeNode(root.val)\n",
    "    else:\n",
    "        # print(root.val)\n",
    "        # invert_tree(root.left)\n",
    "        res.left = invert_tree(root.right)\n",
    "        res.right = invert_tree(root.left)\n",
    "    # print(res)\n",
    "\n",
    "    return res\n",
    "\n",
    "\n",
    "# c = invert_tree(extree)\n",
    "arr = range(6)\n",
    "n = len(arr)\n",
    "c = TreeNode()\n",
    "c = c.insert_level_order(arr,TreeNode(),0,n)\n",
    "# c.left.val\n",
    "c.print()"
   ]
  },
  {
   "cell_type": "code",
   "execution_count": 437,
   "metadata": {},
   "outputs": [
    {
     "name": "stdout",
     "output_type": "stream",
     "text": [
      "6 4 6 2 5 1 6 3 6 "
     ]
    }
   ],
   "source": [
    "# Python3 program to construct binary\n",
    "# tree from given array in level\n",
    "# order fashion Tree Node\n",
    "\n",
    "# Helper function that allocates a\n",
    "#new node\n",
    "class newNode:\n",
    "\tdef __init__(self, data):\n",
    "\t\tself.data = data\n",
    "\t\tself.left = self.right = None\n",
    "\n",
    "# Function to insert nodes in level order\n",
    "def insertLevelOrder(arr, root, i, n):\n",
    "\t\n",
    "\t# Base case for recursion\n",
    "\tif i < n:\n",
    "\t\ttemp = newNode(arr[i])\n",
    "\t\troot = temp\n",
    "\n",
    "\t\t# insert left child\n",
    "\t\troot.left = insertLevelOrder(arr, root.left,\n",
    "\t\t\t\t\t\t\t\t\t2 * i + 1, n)\n",
    "\n",
    "\t\t# insert right child\n",
    "\t\troot.right = insertLevelOrder(arr, root.right,\n",
    "\t\t\t\t\t\t\t\t\t2 * i + 2, n)\n",
    "\treturn root\n",
    "\n",
    "# Function to print tree nodes in\n",
    "# InOrder fashion\n",
    "def inOrder(root):\n",
    "\tif root != None:\n",
    "\t\tinOrder(root.left)\n",
    "\t\tprint(root.data,end=\" \")\n",
    "\t\tinOrder(root.right)\n",
    "\n",
    "# Driver Code\n",
    "if __name__ == '__main__':\n",
    "\tarr = [1, 2, 3, 4, 5, 6, 6, 6, 6]\n",
    "\tn = len(arr)\n",
    "\troot = None\n",
    "\troot = insertLevelOrder(arr, root, 0, n)\n",
    "\tinOrder(root)\n",
    "\t\n",
    "# This code is contributed by PranchalK\n"
   ]
  },
  {
   "cell_type": "code",
   "execution_count": 442,
   "metadata": {},
   "outputs": [
    {
     "data": {
      "text/plain": [
       "5"
      ]
     },
     "execution_count": 442,
     "metadata": {},
     "output_type": "execute_result"
    }
   ],
   "source": [
    "def max_profit(prices):\n",
    "    d = {} \n",
    "    profit = -99999\n",
    "    left = 0\n",
    "    right = 1\n",
    "    while right < len(prices):\n",
    "        current_profit = prices[right] - prices[left] \n",
    "        if prices[left] < prices[right]: \n",
    "            profit = max(profit, current_profit)\n",
    "        else:\n",
    "            left = right \n",
    "        right +=1\n",
    "    return profit\n",
    "max_profit([7,1,5,3,6,4])\n"
   ]
  },
  {
   "cell_type": "code",
   "execution_count": null,
   "metadata": {},
   "outputs": [],
   "source": []
  },
  {
   "cell_type": "code",
   "execution_count": null,
   "metadata": {},
   "outputs": [],
   "source": []
  },
  {
   "cell_type": "code",
   "execution_count": null,
   "metadata": {},
   "outputs": [],
   "source": []
  },
  {
   "cell_type": "code",
   "execution_count": null,
   "metadata": {},
   "outputs": [],
   "source": []
  },
  {
   "cell_type": "code",
   "execution_count": null,
   "metadata": {},
   "outputs": [],
   "source": []
  },
  {
   "cell_type": "code",
   "execution_count": null,
   "metadata": {},
   "outputs": [],
   "source": []
  },
  {
   "cell_type": "code",
   "execution_count": null,
   "metadata": {},
   "outputs": [],
   "source": []
  },
  {
   "cell_type": "code",
   "execution_count": null,
   "metadata": {},
   "outputs": [],
   "source": []
  },
  {
   "cell_type": "code",
   "execution_count": null,
   "metadata": {},
   "outputs": [],
   "source": []
  },
  {
   "cell_type": "code",
   "execution_count": null,
   "metadata": {},
   "outputs": [],
   "source": []
  },
  {
   "cell_type": "code",
   "execution_count": null,
   "metadata": {},
   "outputs": [],
   "source": []
  },
  {
   "cell_type": "code",
   "execution_count": null,
   "metadata": {},
   "outputs": [],
   "source": []
  },
  {
   "cell_type": "code",
   "execution_count": null,
   "metadata": {},
   "outputs": [],
   "source": []
  },
  {
   "cell_type": "code",
   "execution_count": null,
   "metadata": {},
   "outputs": [],
   "source": []
  },
  {
   "cell_type": "code",
   "execution_count": null,
   "metadata": {},
   "outputs": [],
   "source": []
  },
  {
   "cell_type": "code",
   "execution_count": null,
   "metadata": {},
   "outputs": [],
   "source": []
  },
  {
   "cell_type": "code",
   "execution_count": null,
   "metadata": {},
   "outputs": [],
   "source": []
  },
  {
   "cell_type": "code",
   "execution_count": null,
   "metadata": {},
   "outputs": [],
   "source": []
  },
  {
   "cell_type": "code",
   "execution_count": null,
   "metadata": {},
   "outputs": [],
   "source": []
  },
  {
   "cell_type": "code",
   "execution_count": null,
   "metadata": {},
   "outputs": [],
   "source": []
  },
  {
   "cell_type": "code",
   "execution_count": null,
   "metadata": {},
   "outputs": [],
   "source": []
  },
  {
   "cell_type": "code",
   "execution_count": null,
   "metadata": {},
   "outputs": [],
   "source": []
  },
  {
   "cell_type": "code",
   "execution_count": 316,
   "metadata": {},
   "outputs": [
    {
     "name": "stdout",
     "output_type": "stream",
     "text": [
      "11.9 ns ± 0.22 ns per loop (mean ± std. dev. of 7 runs, 100,000,000 loops each)\n"
     ]
    }
   ],
   "source": []
  },
  {
   "cell_type": "code",
   "execution_count": 315,
   "metadata": {},
   "outputs": [
    {
     "name": "stdout",
     "output_type": "stream",
     "text": [
      "0 0 0 4\n",
      "4 0\n",
      "cabe\n",
      "0 4 6 10\n",
      "4 4\n",
      "ecda\n",
      "6 10 7 11\n",
      "4 4\n",
      "cdae\n",
      "7 11 9 12\n",
      "3 4\n",
      "aec\n"
     ]
    },
    {
     "data": {
      "text/plain": [
       "'aec'"
      ]
     },
     "execution_count": 315,
     "metadata": {},
     "output_type": "execute_result"
    }
   ],
   "source": [
    "# https://leetcode.com/problems/minimum-window-substring/discuss/26804/12-lines-Python\n",
    "def minWindow(s, t):\n",
    "    # need = Counter(t)\n",
    "    # missing = len(t)\n",
    "    need, missing = Counter(t), len(t)\n",
    "    i = I = J = 0\n",
    "    for j, c in enumerate(s, 1):\n",
    "        if need[c] > 0: \n",
    "            missing -= 1\n",
    "        # missing -= need[c] > 0\n",
    "        need[c] -= 1\n",
    "        if missing == 0:\n",
    "        # if not missing:\n",
    "            # iterate until index i meets j or need[s[i]] == 0:\n",
    "            while i < j and need[s[i]] < 0:\n",
    "                need[s[i]] += 1\n",
    "                i += 1\n",
    "            # if J == 0 or s[i:j] shorter answer than current s[I:J]:\n",
    "            if not J or j - i <= J - I:\n",
    "                print(I,J, i, j)\n",
    "                print(j-i, J-I)\n",
    "                I, J = i, j\n",
    "                print(s[I:J])\n",
    "    return s[I:J]\n",
    "\n",
    "minWindow(\"cabefgecdaecf\",\"cae\")\n",
    "\n"
   ]
  },
  {
   "cell_type": "code",
   "execution_count": 313,
   "metadata": {},
   "outputs": [
    {
     "data": {
      "text/plain": [
       "True"
      ]
     },
     "execution_count": 313,
     "metadata": {},
     "output_type": "execute_result"
    }
   ],
   "source": []
  },
  {
   "cell_type": "code",
   "execution_count": 247,
   "metadata": {},
   "outputs": [
    {
     "name": "stdout",
     "output_type": "stream",
     "text": [
      "Number is 4\n",
      "Number is 5\n",
      "Number is 6\n",
      "Number is 7\n",
      "Number is 8\n",
      "Number is 9\n",
      "Number is 10\n",
      "Out of loop\n"
     ]
    }
   ],
   "source": [
    "start = 4\n",
    "\n",
    "for i in range(0,10):\n",
    "   i = i + 1\n",
    "\n",
    "   if i <start:\n",
    "      continue    # continue here\n",
    "\n",
    "   print('Number is ' + str(i))\n",
    "\n",
    "print('Out of loop')\n"
   ]
  },
  {
   "cell_type": "code",
   "execution_count": null,
   "metadata": {},
   "outputs": [],
   "source": []
  },
  {
   "cell_type": "code",
   "execution_count": null,
   "metadata": {},
   "outputs": [],
   "source": []
  },
  {
   "cell_type": "code",
   "execution_count": null,
   "metadata": {},
   "outputs": [],
   "source": []
  },
  {
   "cell_type": "code",
   "execution_count": null,
   "metadata": {},
   "outputs": [],
   "source": []
  },
  {
   "cell_type": "code",
   "execution_count": null,
   "metadata": {},
   "outputs": [],
   "source": []
  },
  {
   "cell_type": "code",
   "execution_count": null,
   "metadata": {},
   "outputs": [],
   "source": []
  },
  {
   "cell_type": "code",
   "execution_count": null,
   "metadata": {},
   "outputs": [],
   "source": []
  },
  {
   "cell_type": "code",
   "execution_count": null,
   "metadata": {},
   "outputs": [],
   "source": []
  },
  {
   "cell_type": "code",
   "execution_count": 205,
   "metadata": {},
   "outputs": [
    {
     "name": "stdout",
     "output_type": "stream",
     "text": [
      "a Counter({'A': 1, 'B': 1})\n",
      "a Counter({'A': 1})\n",
      "a Counter()\n"
     ]
    },
    {
     "data": {
      "text/plain": [
       "('ADOBEC', 0)"
      ]
     },
     "execution_count": 205,
     "metadata": {},
     "output_type": "execute_result"
    }
   ],
   "source": [
    "s = 'aaaabbcdd'\n",
    "c = Counter({'a':1,'b':2,'c':1,'d':1})\n",
    "s = 'ADOBEC'\n",
    "c = Counter({'A':1,'B':1,'C':1})\n",
    "\n",
    "# for i in range(len(s) -1, 0, -1):\n",
    "    # print('a',s[i:len(s)])\n",
    "def reverse_min_sub(s, t_bag):\n",
    "    t_temp = deepcopy(t_bag)\n",
    "    for i in range(len(s)-1, -1, -1):\n",
    "        if s[i] in t_temp:\n",
    "            if t_temp[s[i]] == 1:\n",
    "                del t_temp[s[i]]\n",
    "                print('a',t_temp)\n",
    "            else:\n",
    "                t_temp[s[i]] -= 1\n",
    "        if t_temp == Counter():\n",
    "            return s[i:len(s)], i\n",
    "reverse_min_sub(s,c)"
   ]
  },
  {
   "cell_type": "code",
   "execution_count": null,
   "metadata": {},
   "outputs": [],
   "source": []
  },
  {
   "cell_type": "code",
   "execution_count": null,
   "metadata": {},
   "outputs": [],
   "source": []
  },
  {
   "cell_type": "code",
   "execution_count": 166,
   "metadata": {},
   "outputs": [
    {
     "ename": "NameError",
     "evalue": "name 'prod' is not defined",
     "output_type": "error",
     "traceback": [
      "\u001b[0;31m---------------------------------------------------------------------------\u001b[0m",
      "\u001b[0;31mNameError\u001b[0m                                 Traceback (most recent call last)",
      "Input \u001b[0;32mIn [166]\u001b[0m, in \u001b[0;36m<module>\u001b[0;34m\u001b[0m\n\u001b[1;32m      1\u001b[0m \u001b[38;5;28mbool\u001b[39m(\u001b[38;5;241m10000\u001b[39m)\n\u001b[0;32m----> 2\u001b[0m \u001b[43mprod\u001b[49m(\u001b[38;5;241m1\u001b[39m,\u001b[38;5;241m2\u001b[39m)\n",
      "\u001b[0;31mNameError\u001b[0m: name 'prod' is not defined"
     ]
    }
   ],
   "source": [
    "bool(10000)\n",
    "prod(1,2)"
   ]
  },
  {
   "cell_type": "code",
   "execution_count": 155,
   "metadata": {},
   "outputs": [
    {
     "data": {
      "text/plain": [
       "'a'"
      ]
     },
     "execution_count": 155,
     "metadata": {},
     "output_type": "execute_result"
    }
   ],
   "source": [
    "min('abc',\"a\", key=len)"
   ]
  },
  {
   "cell_type": "code",
   "execution_count": null,
   "metadata": {},
   "outputs": [],
   "source": []
  },
  {
   "cell_type": "code",
   "execution_count": null,
   "metadata": {},
   "outputs": [],
   "source": []
  },
  {
   "cell_type": "code",
   "execution_count": null,
   "metadata": {},
   "outputs": [],
   "source": [
    "min()"
   ]
  },
  {
   "cell_type": "code",
   "execution_count": 91,
   "metadata": {},
   "outputs": [
    {
     "data": {
      "text/plain": [
       "False"
      ]
     },
     "execution_count": 91,
     "metadata": {},
     "output_type": "execute_result"
    }
   ],
   "source": [
    "Counter('abc') == {'a':1, 'b':1,'c':1, 'd':0}"
   ]
  },
  {
   "cell_type": "code",
   "execution_count": 9,
   "metadata": {},
   "outputs": [
    {
     "data": {
      "text/plain": [
       "[('a', 'd', 'h'), ('b', 'e', 'i'), ('c', 'f', 'j')]"
      ]
     },
     "execution_count": 9,
     "metadata": {},
     "output_type": "execute_result"
    }
   ],
   "source": [
    "list(zip('abc','def','hij'))"
   ]
  },
  {
   "cell_type": "code",
   "execution_count": 7,
   "metadata": {},
   "outputs": [
    {
     "data": {
      "text/plain": [
       "['a', 'b', 'd']"
      ]
     },
     "execution_count": 7,
     "metadata": {},
     "output_type": "execute_result"
    }
   ],
   "source": [
    "list('abd')"
   ]
  },
  {
   "cell_type": "code",
   "execution_count": null,
   "metadata": {},
   "outputs": [],
   "source": []
  },
  {
   "cell_type": "code",
   "execution_count": null,
   "metadata": {},
   "outputs": [],
   "source": []
  },
  {
   "cell_type": "code",
   "execution_count": 62,
   "metadata": {},
   "outputs": [
    {
     "name": "stdout",
     "output_type": "stream",
     "text": [
      "f\n",
      "b\n",
      "o\n",
      "a\n",
      "o\n",
      "r\n",
      "0\n",
      "1\n",
      "2\n",
      "passed\n",
      "f\n",
      "b\n",
      "o\n",
      "a\n",
      "o\n",
      "r\n",
      "substring too short; ending enumeration\n",
      "passed\n",
      "f\n",
      "b\n",
      "o\n",
      "a\n",
      "o\n",
      "r\n",
      "0\n",
      "substring too short; ending enumeration\n",
      "passed\n",
      "f\n",
      "f\n",
      "o\n",
      "o\n",
      "o\n",
      "o\n"
     ]
    },
    {
     "data": {
      "text/plain": [
       "[{'f': 1}, {'o': 1}, {'o': 1}]"
      ]
     },
     "execution_count": 62,
     "metadata": {},
     "output_type": "execute_result"
    }
   ],
   "source": [
    "def create_check(words):\n",
    "    '''\n",
    "    words:list -> list of dictionaries of unfilled characters\n",
    "    '''\n",
    "    result = []\n",
    "    # iteration is as long as the length of each word; we assume the word lengths are equal\n",
    "\n",
    "    for w in words:\n",
    "        for i in range(w):\n",
    "            \n",
    "    for i in range(len(words[0])):\n",
    "        subdict = {}\n",
    "        for w in words:\n",
    "            if w in subdict:\n",
    "                print('yeah')\n",
    "                subdict[w[i]] += 1\n",
    "            else:\n",
    "                subdict[w[i]] = 1\n",
    "\n",
    "        result.append(subdict)\n",
    "    return result\n",
    "\n",
    "\n",
    "def findSubstring(s:str, words:list):\n",
    "    # print(s, words)\n",
    "    # if len(words) == 0:\n",
    "    #     print('empty list of words')\n",
    "    #     return []\n",
    "    indices = []\n",
    "    # start = 0\n",
    "    # start can equal i \n",
    "    \n",
    "    # populate checks: list of dictionaries\n",
    "    check = create_check(words)\n",
    "\n",
    "\n",
    "    for start_index in range(len(s)):\n",
    "        if len(s) < len(words[0]) * len(words) + start_index:\n",
    "            print('substring too short; ending enumeration')\n",
    "            break\n",
    "        for i in range(len(words[0])):\n",
    "            temp_check = {}\n",
    "        # temp_check = {d[]}\n",
    "\n",
    "\n",
    "\n",
    "        for j in range(len(words[0])):\n",
    "            \n",
    "            pass\n",
    "        print(start_index)\n",
    "        if start_index == 2:\n",
    "            \n",
    "            break\n",
    "    \n",
    "    print('passed')\n",
    "    # return indices\n",
    "findSubstring('barfoothefoobarman',['foo','bar'])\n",
    "findSubstring('foo', ['foo','bar'])\n",
    "findSubstring('barfoo', ['foo','bar'])\n",
    "create_check(['foo','foo'])"
   ]
  },
  {
   "cell_type": "code",
   "execution_count": 55,
   "metadata": {},
   "outputs": [
    {
     "name": "stdout",
     "output_type": "stream",
     "text": [
      "a\n",
      "b\n",
      "c\n"
     ]
    }
   ],
   "source": [
    "for i, c in enumerate('abc'):\n",
    "    print()"
   ]
  },
  {
   "cell_type": "code",
   "execution_count": 50,
   "metadata": {},
   "outputs": [
    {
     "data": {
      "text/plain": [
       "True"
      ]
     },
     "execution_count": 50,
     "metadata": {},
     "output_type": "execute_result"
    }
   ],
   "source": [
    "[2,3,4] == [4,3,2]\n",
    "(2,3,4) == (4,3,2)\n",
    "{'a':1, 'b':2} == {'b':2, 'a':1}\n"
   ]
  },
  {
   "cell_type": "markdown",
   "metadata": {},
   "source": [
    "wordgoodgoodbestword, [word, word, best, good, good]\n",
    "= [0]\n"
   ]
  },
  {
   "cell_type": "code",
   "execution_count": null,
   "metadata": {},
   "outputs": [],
   "source": []
  }
 ],
 "metadata": {
  "interpreter": {
   "hash": "c6e4e9f98eb68ad3b7c296f83d20e6de614cb42e90992a65aa266555a3137d0d"
  },
  "kernelspec": {
   "display_name": "Python 3.9.7 64-bit ('base': conda)",
   "language": "python",
   "name": "python3"
  },
  "language_info": {
   "codemirror_mode": {
    "name": "ipython",
    "version": 3
   },
   "file_extension": ".py",
   "mimetype": "text/x-python",
   "name": "python",
   "nbconvert_exporter": "python",
   "pygments_lexer": "ipython3",
   "version": "3.9.7"
  },
  "orig_nbformat": 4
 },
 "nbformat": 4,
 "nbformat_minor": 2
}
