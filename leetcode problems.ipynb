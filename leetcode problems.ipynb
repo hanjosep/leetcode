{
 "cells": [
  {
   "cell_type": "code",
   "execution_count": 28,
   "metadata": {},
   "outputs": [
    {
     "data": {
      "text/plain": [
       "5"
      ]
     },
     "execution_count": 28,
     "metadata": {},
     "output_type": "execute_result"
    }
   ],
   "source": [
    "b = bin(int('11'))\n",
    "b[2:]\n",
    "int('0b11',2) + int('0b10',2)\n",
    "\n",
    "\n",
    "# b.encode('utf-8')\n"
   ]
  },
  {
   "cell_type": "code",
   "execution_count": 31,
   "metadata": {},
   "outputs": [
    {
     "data": {
      "text/plain": [
       "'123'"
      ]
     },
     "execution_count": 31,
     "metadata": {},
     "output_type": "execute_result"
    }
   ],
   "source": [
    "l = [1,2,3]\n",
    "ls = ''\n",
    "\n",
    "for a in l:\n",
    "    ls = ls + str(a)\n",
    "ls"
   ]
  },
  {
   "cell_type": "code",
   "execution_count": 35,
   "metadata": {},
   "outputs": [
    {
     "data": {
      "text/plain": [
       "['123']"
      ]
     },
     "execution_count": 35,
     "metadata": {},
     "output_type": "execute_result"
    }
   ],
   "source": [
    "'123'.split()\n",
    "\n",
    "\n"
   ]
  },
  {
   "cell_type": "code",
   "execution_count": 43,
   "metadata": {},
   "outputs": [],
   "source": [
    "c=[1,2,3]\n",
    "cs = [str(i) for i in c]\n",
    "d = ''.join(cs)\n",
    "intd = int(d)\n"
   ]
  },
  {
   "cell_type": "code",
   "execution_count": 45,
   "metadata": {},
   "outputs": [],
   "source": [
    "s = 1 if True else 2"
   ]
  },
  {
   "cell_type": "code",
   "execution_count": 21,
   "metadata": {},
   "outputs": [
    {
     "name": "stdout",
     "output_type": "stream",
     "text": [
      "0 w 0\n",
      "w not in {}\n",
      "1 w 0\n",
      "w {'w': 0} 0 <= 0\n",
      "1\n",
      "2 w 1\n",
      "w {'w': 1} 1 <= 1\n",
      "2\n",
      "3 w 2\n",
      "w {'w': 2} 2 <= 2\n",
      "3\n",
      "4 f 3\n",
      "f not in {'w': 3}\n",
      "5 w 3\n",
      "w {'w': 3, 'f': 4} 3 <= 3\n",
      "4\n",
      "6 w 4\n",
      "w {'w': 5, 'f': 4} 4 <= 5\n",
      "6\n",
      "7 w 6\n",
      "w {'w': 6, 'f': 4} 6 <= 6\n",
      "7\n",
      "8 f 7\n",
      "7 > 4 f {'w': 7, 'f': 4}\n",
      "9 w 7\n",
      "w {'w': 7, 'f': 8} 7 <= 7\n",
      "8\n",
      "10 w 8\n",
      "w {'w': 9, 'f': 8} 8 <= 9\n",
      "10\n",
      "11 f 10\n",
      "10 > 8 f {'w': 10, 'f': 8}\n",
      "12 w 10\n",
      "w {'w': 10, 'f': 11} 10 <= 10\n",
      "11\n",
      "13 f 11\n",
      "f {'w': 12, 'f': 11} 11 <= 11\n",
      "12\n"
     ]
    },
    {
     "data": {
      "text/plain": [
       "2"
      ]
     },
     "execution_count": 21,
     "metadata": {},
     "output_type": "execute_result"
    }
   ],
   "source": [
    "#https://leetcode.com/problems/longest-substring-without-repeating-characters/discuss/1731/A-Python-solution-85ms-O(n)\n",
    "def lols(s:str):  \n",
    "    start = max_length = 0\n",
    "    used_char = {}\n",
    "    for index,char in enumerate(s):\n",
    "        print(index,char, start)\n",
    "        if char in used_char and start <= used_char[char]:\n",
    "            print(char,used_char,'%s <= %s'% (start,used_char[char]))\n",
    "\n",
    "\n",
    "            start = used_char[s[index]] + 1\n",
    "            print(start)\n",
    "        else:\n",
    "            try:\n",
    "                if char not in used_char:\n",
    "                    print(char,'not in', used_char)\n",
    "            except:\n",
    "                pass\n",
    "            try:\n",
    "\n",
    "                if start > used_char[char]:\n",
    "                    print(start, '>', used_char[char], char,used_char)\n",
    "            except:\n",
    "                pass\n",
    "            max_length = max(max_length, index - start +1)\n",
    "\n",
    "        used_char[s[index]] = index\n",
    "    return max_length\n",
    "\n",
    "\n",
    "\n",
    "lols('wwwwfwwwfwwfwf')\n"
   ]
  },
  {
   "cell_type": "code",
   "execution_count": 4,
   "metadata": {},
   "outputs": [
    {
     "data": {
      "text/plain": [
       "<enumerate at 0x105e16d40>"
      ]
     },
     "execution_count": 4,
     "metadata": {},
     "output_type": "execute_result"
    }
   ],
   "source": []
  },
  {
   "cell_type": "code",
   "execution_count": null,
   "metadata": {},
   "outputs": [],
   "source": []
  }
 ],
 "metadata": {
  "interpreter": {
   "hash": "c6e4e9f98eb68ad3b7c296f83d20e6de614cb42e90992a65aa266555a3137d0d"
  },
  "kernelspec": {
   "display_name": "Python 3.9.7 64-bit ('base': conda)",
   "language": "python",
   "name": "python3"
  },
  "language_info": {
   "codemirror_mode": {
    "name": "ipython",
    "version": 3
   },
   "file_extension": ".py",
   "mimetype": "text/x-python",
   "name": "python",
   "nbconvert_exporter": "python",
   "pygments_lexer": "ipython3",
   "version": "3.9.7"
  },
  "orig_nbformat": 4
 },
 "nbformat": 4,
 "nbformat_minor": 2
}
