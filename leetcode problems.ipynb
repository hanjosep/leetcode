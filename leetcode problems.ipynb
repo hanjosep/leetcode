{
 "cells": [
  {
   "cell_type": "code",
   "execution_count": 28,
   "metadata": {},
   "outputs": [
    {
     "data": {
      "text/plain": [
       "5"
      ]
     },
     "execution_count": 28,
     "metadata": {},
     "output_type": "execute_result"
    }
   ],
   "source": [
    "b = bin(int('11'))\n",
    "b[2:]\n",
    "int('0b11',2) + int('0b10',2)\n",
    "\n",
    "\n",
    "# b.encode('utf-8')\n"
   ]
  },
  {
   "cell_type": "code",
   "execution_count": 31,
   "metadata": {},
   "outputs": [
    {
     "data": {
      "text/plain": [
       "'123'"
      ]
     },
     "execution_count": 31,
     "metadata": {},
     "output_type": "execute_result"
    }
   ],
   "source": [
    "l = [1,2,3]\n",
    "ls = ''\n",
    "\n",
    "for a in l:\n",
    "    ls = ls + str(a)\n",
    "ls"
   ]
  },
  {
   "cell_type": "code",
   "execution_count": 35,
   "metadata": {},
   "outputs": [
    {
     "data": {
      "text/plain": [
       "['123']"
      ]
     },
     "execution_count": 35,
     "metadata": {},
     "output_type": "execute_result"
    }
   ],
   "source": [
    "'123'.split()\n",
    "\n",
    "\n"
   ]
  },
  {
   "cell_type": "code",
   "execution_count": 43,
   "metadata": {},
   "outputs": [],
   "source": [
    "c=[1,2,3]\n",
    "cs = [str(i) for i in c]\n",
    "d = ''.join(cs)\n",
    "intd = int(d)\n"
   ]
  },
  {
   "cell_type": "code",
   "execution_count": 45,
   "metadata": {},
   "outputs": [],
   "source": [
    "s = 1 if True else 2"
   ]
  },
  {
   "cell_type": "code",
   "execution_count": 23,
   "metadata": {},
   "outputs": [
    {
     "name": "stdout",
     "output_type": "stream",
     "text": [
      "0 t 0\n",
      "t not in {}\n",
      "1 m 0\n",
      "m not in {'t': 0}\n",
      "2 m 0\n",
      "m {'t': 0, 'm': 1} 0 <= 1\n",
      "2\n",
      "3 z 2\n",
      "z not in {'t': 0, 'm': 2}\n",
      "4 u 2\n",
      "u not in {'t': 0, 'm': 2, 'z': 3}\n",
      "5 x 2\n",
      "x not in {'t': 0, 'm': 2, 'z': 3, 'u': 4}\n",
      "6 t 2\n",
      "2 > 0 t {'t': 0, 'm': 2, 'z': 3, 'u': 4, 'x': 5}\n"
     ]
    },
    {
     "data": {
      "text/plain": [
       "5"
      ]
     },
     "execution_count": 23,
     "metadata": {},
     "output_type": "execute_result"
    }
   ],
   "source": [
    "#https://leetcode.com/problems/longest-substring-without-repeating-characters/discuss/1731/A-Python-solution-85ms-O(n)\n",
    "def lols(s:str):  \n",
    "    start = max_length = 0\n",
    "    used_char = {}\n",
    "    for index,char in enumerate(s):\n",
    "        print(index,char, start)\n",
    "        if char in used_char and start <= used_char[char]:\n",
    "            print(char,used_char,'%s <= %s'% (start,used_char[char]))\n",
    "\n",
    "\n",
    "            start = used_char[s[index]] + 1\n",
    "            print(start)\n",
    "        else:\n",
    "            try:\n",
    "                if char not in used_char:\n",
    "                    print(char,'not in', used_char)\n",
    "            except:\n",
    "                pass\n",
    "            try:\n",
    "\n",
    "                if start > used_char[char]:\n",
    "                    print(start, '>', used_char[char], char,used_char)\n",
    "            except:\n",
    "                pass\n",
    "            max_length = max(max_length, index - start +1)\n",
    "\n",
    "        used_char[s[index]] = index\n",
    "    return max_length\n",
    "\n",
    "\n",
    "\n",
    "lols('tmmzuxt')\n"
   ]
  },
  {
   "cell_type": "code",
   "execution_count": 56,
   "metadata": {},
   "outputs": [
    {
     "data": {
      "text/plain": [
       "{'a': 3}"
      ]
     },
     "execution_count": 56,
     "metadata": {},
     "output_type": "execute_result"
    }
   ],
   "source": [
    "d = {}\n",
    "d['a'] = 2\n",
    "d['a'] += 1\n",
    "d"
   ]
  },
  {
   "cell_type": "markdown",
   "metadata": {},
   "source": [
    "foo foo\n",
    "[{f:2}, {o:2} , {o:2}]"
   ]
  },
  {
   "cell_type": "code",
   "execution_count": 40,
   "metadata": {},
   "outputs": [
    {
     "data": {
      "text/plain": [
       "[{'a': 2, 'b': 2}, {'b': 2, 'a': 2}]"
      ]
     },
     "execution_count": 40,
     "metadata": {},
     "output_type": "execute_result"
    }
   ],
   "source": [
    "def dictize_string(s):\n",
    "    '''\n",
    "    dictize_string(string) -> dict:\n",
    "    count how many time a character occurs in a given string.\n",
    "    '''\n",
    "    result = {}\n",
    "    for i in s:\n",
    "        # print(i)\n",
    "        if i in result:\n",
    "            result[i] +=1\n",
    "        else:\n",
    "            result[i]= 1\n",
    "    # print(result)\n",
    "\n",
    "    return result\n",
    "\n",
    "def string_zip(l):\n",
    "    '''\n",
    "    a list of strings are returned so that each respective indices are returned in a zipped list\n",
    "    '''\n",
    "    res = []\n",
    "    for i in range(len(l[0])):\n",
    "        res.append(''.join([s[i] for s in l]))\n",
    "    return res\n",
    "\n",
    "def dictize_list(zipped_l):\n",
    "    '''\n",
    "    dictize_list: given a zipped string list, we apply dictize_string to\n",
    "    count how many times a given character occurs at its respective index.\n",
    "    '''\n",
    "    res = []\n",
    "    for s in zipped_l:\n",
    "        res.append(dictize_string(s))\n",
    "    return res\n",
    "d  = [\"ab\",\"ba\",\"ab\",\"ba\"]\n",
    "string_zip(d)\n",
    "dictize_list(string_zip(d))\n"
   ]
  },
  {
   "cell_type": "code",
   "execution_count": 33,
   "metadata": {},
   "outputs": [],
   "source": [
    "def split_by_len(s, x):\n",
    "    chunk, chunk_size = len(s), len(s)//x\n",
    "    result = [s[i: i+ chunk_size] for i in range(0, chunk, chunk_size)]\n",
    "    return result\n",
    "\n",
    "\n",
    "def split_by_wordlen(s, wordlen):\n",
    "    '''\n",
    "    given a string, split by the given length. \n",
    "    '''\n",
    "    return [s[i:i+wordlen] for i in range(0, len(s), wordlen)]\n",
    "d = split_by_wordlen('abcdefGHIJKL',3)\n"
   ]
  },
  {
   "cell_type": "code",
   "execution_count": 50,
   "metadata": {},
   "outputs": [
    {
     "name": "stdout",
     "output_type": "stream",
     "text": [
      "substring too short; ending loop 16\n"
     ]
    },
    {
     "data": {
      "text/plain": [
       "[6, 9, 12]"
      ]
     },
     "execution_count": 50,
     "metadata": {},
     "output_type": "execute_result"
    }
   ],
   "source": [
    "def findSubstring(s:str, words:list):\n",
    "    wlen = len(words[0])\n",
    "    substring_len = len(words[0]) * len(words)\n",
    "    check = dictize_list(string_zip(words))\n",
    "    res = []\n",
    "    for start_index in range(len(s)):\n",
    "        if len(s) < substring_len + start_index:\n",
    "            print('substring too short; ending loop', start_index)\n",
    "            break\n",
    "        substring_temp= s[start_index: start_index + substring_len]\n",
    "        split_substring_temp = split_by_wordlen(substring_temp, wlen)\n",
    "        if sorted(split_substring_temp) == sorted(words):\n",
    "\n",
    "\n",
    "            # print(split_substring_temp)\n",
    "            \n",
    "            temp_check = dictize_list(string_zip(split_substring_temp))\n",
    "            if temp_check == check:\n",
    "                # print(temp_check, check, substring_temp)\n",
    "\n",
    "                res.append(start_index)\n",
    "    return res\n",
    "# findSubstring('barfoothefoobarman',['foo','bar'])\n",
    "# findSubstring('wordgoodgoodgoodbestword',[\"word\",\"good\",\"best\",\"word\"])\n",
    "\n",
    "d  = [\"ab\",\"ba\",\"ab\",\"ba\"]\n",
    "findSubstring('barfoofoobarthefoobarman', [\"bar\",\"foo\",\"the\"])\n",
    "# findSubstring('abaababbaba', [\"ab\",\"ba\",\"ab\",\"ba\"])\n",
    "# dictize_list(string_zip(d))\n",
    "\n",
    "\n",
    "\n",
    "# Zipping the list of strings breaks the ordering of the words themselves. use Bag of words instead using collections.Counter and defaultdict.\n",
    "\n",
    "        "
   ]
  },
  {
   "cell_type": "code",
   "execution_count": 66,
   "metadata": {},
   "outputs": [
    {
     "data": {
      "text/plain": [
       "[1, 3]"
      ]
     },
     "execution_count": 66,
     "metadata": {},
     "output_type": "execute_result"
    }
   ],
   "source": [
    "# https://leetcode.com/problems/substring-with-concatenation-of-all-words/discuss/13658/Easy-Two-Map-Solution-(C%2B%2BJava)\n",
    "from collections import Counter, defaultdict\n",
    "Counter(d)\n",
    "i = 0\n",
    "a = defaultdict(int)\n",
    "\n",
    "def findSubstring(s, words):\n",
    "    res = []\n",
    "    word_bag = Counter(words)\n",
    "    word_len = len(words[0])\n",
    "    num_words = len(words)\n",
    "    total_len = word_len * num_words\n",
    "    for i in range(len(s) - total_len + 1):\n",
    "        seen = defaultdict(int)\n",
    "        for j in range(i, i + total_len, word_len):\n",
    "            current_word = s[j:j+word_len]\n",
    "            if current_word in word_bag:\n",
    "                seen[current_word] += 1\n",
    "                if seen[current_word] > word_bag[current_word]:\n",
    "                    break\n",
    "            else:\n",
    "                break\n",
    "        if seen ==word_bag:\n",
    "            res.append(i)\n",
    "\n",
    "    return res\n",
    "findSubstring('abaababbaba', [\"ab\",\"ba\",\"ab\",\"ba\"])\n",
    "\n",
    "\n",
    "\n"
   ]
  },
  {
   "cell_type": "code",
   "execution_count": null,
   "metadata": {},
   "outputs": [],
   "source": []
  },
  {
   "cell_type": "code",
   "execution_count": null,
   "metadata": {},
   "outputs": [],
   "source": []
  },
  {
   "cell_type": "code",
   "execution_count": 9,
   "metadata": {},
   "outputs": [
    {
     "data": {
      "text/plain": [
       "[('a', 'd', 'h'), ('b', 'e', 'i'), ('c', 'f', 'j')]"
      ]
     },
     "execution_count": 9,
     "metadata": {},
     "output_type": "execute_result"
    }
   ],
   "source": [
    "list(zip('abc','def','hij'))"
   ]
  },
  {
   "cell_type": "code",
   "execution_count": 7,
   "metadata": {},
   "outputs": [
    {
     "data": {
      "text/plain": [
       "['a', 'b', 'd']"
      ]
     },
     "execution_count": 7,
     "metadata": {},
     "output_type": "execute_result"
    }
   ],
   "source": [
    "list('abd')"
   ]
  },
  {
   "cell_type": "code",
   "execution_count": null,
   "metadata": {},
   "outputs": [],
   "source": []
  },
  {
   "cell_type": "code",
   "execution_count": null,
   "metadata": {},
   "outputs": [],
   "source": []
  },
  {
   "cell_type": "code",
   "execution_count": 62,
   "metadata": {},
   "outputs": [
    {
     "name": "stdout",
     "output_type": "stream",
     "text": [
      "f\n",
      "b\n",
      "o\n",
      "a\n",
      "o\n",
      "r\n",
      "0\n",
      "1\n",
      "2\n",
      "passed\n",
      "f\n",
      "b\n",
      "o\n",
      "a\n",
      "o\n",
      "r\n",
      "substring too short; ending enumeration\n",
      "passed\n",
      "f\n",
      "b\n",
      "o\n",
      "a\n",
      "o\n",
      "r\n",
      "0\n",
      "substring too short; ending enumeration\n",
      "passed\n",
      "f\n",
      "f\n",
      "o\n",
      "o\n",
      "o\n",
      "o\n"
     ]
    },
    {
     "data": {
      "text/plain": [
       "[{'f': 1}, {'o': 1}, {'o': 1}]"
      ]
     },
     "execution_count": 62,
     "metadata": {},
     "output_type": "execute_result"
    }
   ],
   "source": [
    "def create_check(words):\n",
    "    '''\n",
    "    words:list -> list of dictionaries of unfilled characters\n",
    "    '''\n",
    "    result = []\n",
    "    # iteration is as long as the length of each word; we assume the word lengths are equal\n",
    "\n",
    "    for w in words:\n",
    "        for i in range(w):\n",
    "            \n",
    "    for i in range(len(words[0])):\n",
    "        subdict = {}\n",
    "        for w in words:\n",
    "            if w in subdict:\n",
    "                print('yeah')\n",
    "                subdict[w[i]] += 1\n",
    "            else:\n",
    "                subdict[w[i]] = 1\n",
    "\n",
    "        result.append(subdict)\n",
    "    return result\n",
    "\n",
    "\n",
    "def findSubstring(s:str, words:list):\n",
    "    # print(s, words)\n",
    "    # if len(words) == 0:\n",
    "    #     print('empty list of words')\n",
    "    #     return []\n",
    "    indices = []\n",
    "    # start = 0\n",
    "    # start can equal i \n",
    "    \n",
    "    # populate checks: list of dictionaries\n",
    "    check = create_check(words)\n",
    "\n",
    "\n",
    "    for start_index in range(len(s)):\n",
    "        if len(s) < len(words[0]) * len(words) + start_index:\n",
    "            print('substring too short; ending enumeration')\n",
    "            break\n",
    "        for i in range(len(words[0])):\n",
    "            temp_check = {}\n",
    "        # temp_check = {d[]}\n",
    "\n",
    "\n",
    "\n",
    "        for j in range(len(words[0])):\n",
    "            \n",
    "            pass\n",
    "        print(start_index)\n",
    "        if start_index == 2:\n",
    "            \n",
    "            break\n",
    "    \n",
    "    print('passed')\n",
    "    # return indices\n",
    "findSubstring('barfoothefoobarman',['foo','bar'])\n",
    "findSubstring('foo', ['foo','bar'])\n",
    "findSubstring('barfoo', ['foo','bar'])\n",
    "create_check(['foo','foo'])"
   ]
  },
  {
   "cell_type": "code",
   "execution_count": 55,
   "metadata": {},
   "outputs": [
    {
     "name": "stdout",
     "output_type": "stream",
     "text": [
      "a\n",
      "b\n",
      "c\n"
     ]
    }
   ],
   "source": [
    "for i, c in enumerate('abc'):\n",
    "    print()"
   ]
  },
  {
   "cell_type": "code",
   "execution_count": 50,
   "metadata": {},
   "outputs": [
    {
     "data": {
      "text/plain": [
       "True"
      ]
     },
     "execution_count": 50,
     "metadata": {},
     "output_type": "execute_result"
    }
   ],
   "source": [
    "[2,3,4] == [4,3,2]\n",
    "(2,3,4) == (4,3,2)\n",
    "{'a':1, 'b':2} == {'b':2, 'a':1}\n"
   ]
  },
  {
   "cell_type": "markdown",
   "metadata": {},
   "source": [
    "wordgoodgoodbestword, [word, word, best, good, good]\n",
    "= [0]\n"
   ]
  },
  {
   "cell_type": "code",
   "execution_count": null,
   "metadata": {},
   "outputs": [],
   "source": []
  }
 ],
 "metadata": {
  "interpreter": {
   "hash": "c6e4e9f98eb68ad3b7c296f83d20e6de614cb42e90992a65aa266555a3137d0d"
  },
  "kernelspec": {
   "display_name": "Python 3.9.7 64-bit ('base': conda)",
   "language": "python",
   "name": "python3"
  },
  "language_info": {
   "codemirror_mode": {
    "name": "ipython",
    "version": 3
   },
   "file_extension": ".py",
   "mimetype": "text/x-python",
   "name": "python",
   "nbconvert_exporter": "python",
   "pygments_lexer": "ipython3",
   "version": "3.9.7"
  },
  "orig_nbformat": 4
 },
 "nbformat": 4,
 "nbformat_minor": 2
}
