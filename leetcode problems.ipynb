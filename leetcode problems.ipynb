{
 "cells": [
  {
   "cell_type": "code",
   "execution_count": 28,
   "metadata": {},
   "outputs": [
    {
     "data": {
      "text/plain": [
       "5"
      ]
     },
     "execution_count": 28,
     "metadata": {},
     "output_type": "execute_result"
    }
   ],
   "source": [
    "b = bin(int('11'))\n",
    "b[2:]\n",
    "int('0b11',2) + int('0b10',2)\n",
    "\n",
    "\n",
    "# b.encode('utf-8')\n"
   ]
  },
  {
   "cell_type": "code",
   "execution_count": 31,
   "metadata": {},
   "outputs": [
    {
     "data": {
      "text/plain": [
       "'123'"
      ]
     },
     "execution_count": 31,
     "metadata": {},
     "output_type": "execute_result"
    }
   ],
   "source": [
    "l = [1,2,3]\n",
    "ls = ''\n",
    "\n",
    "for a in l:\n",
    "    ls = ls + str(a)\n",
    "ls"
   ]
  },
  {
   "cell_type": "code",
   "execution_count": 35,
   "metadata": {},
   "outputs": [
    {
     "data": {
      "text/plain": [
       "['123']"
      ]
     },
     "execution_count": 35,
     "metadata": {},
     "output_type": "execute_result"
    }
   ],
   "source": [
    "'123'.split()\n",
    "\n",
    "\n"
   ]
  },
  {
   "cell_type": "code",
   "execution_count": 43,
   "metadata": {},
   "outputs": [],
   "source": [
    "c=[1,2,3]\n",
    "cs = [str(i) for i in c]\n",
    "d = ''.join(cs)\n",
    "intd = int(d)\n"
   ]
  },
  {
   "cell_type": "code",
   "execution_count": 45,
   "metadata": {},
   "outputs": [],
   "source": [
    "s = 1 if True else 2"
   ]
  },
  {
   "cell_type": "code",
   "execution_count": 23,
   "metadata": {},
   "outputs": [
    {
     "name": "stdout",
     "output_type": "stream",
     "text": [
      "0 t 0\n",
      "t not in {}\n",
      "1 m 0\n",
      "m not in {'t': 0}\n",
      "2 m 0\n",
      "m {'t': 0, 'm': 1} 0 <= 1\n",
      "2\n",
      "3 z 2\n",
      "z not in {'t': 0, 'm': 2}\n",
      "4 u 2\n",
      "u not in {'t': 0, 'm': 2, 'z': 3}\n",
      "5 x 2\n",
      "x not in {'t': 0, 'm': 2, 'z': 3, 'u': 4}\n",
      "6 t 2\n",
      "2 > 0 t {'t': 0, 'm': 2, 'z': 3, 'u': 4, 'x': 5}\n"
     ]
    },
    {
     "data": {
      "text/plain": [
       "5"
      ]
     },
     "execution_count": 23,
     "metadata": {},
     "output_type": "execute_result"
    }
   ],
   "source": [
    "#https://leetcode.com/problems/longest-substring-without-repeating-characters/discuss/1731/A-Python-solution-85ms-O(n)\n",
    "def lols(s:str):  \n",
    "    start = max_length = 0\n",
    "    used_char = {}\n",
    "    for index,char in enumerate(s):\n",
    "        print(index,char, start)\n",
    "        if char in used_char and start <= used_char[char]:\n",
    "            print(char,used_char,'%s <= %s'% (start,used_char[char]))\n",
    "\n",
    "\n",
    "            start = used_char[s[index]] + 1\n",
    "            print(start)\n",
    "        else:\n",
    "            try:\n",
    "                if char not in used_char:\n",
    "                    print(char,'not in', used_char)\n",
    "            except:\n",
    "                pass\n",
    "            try:\n",
    "\n",
    "                if start > used_char[char]:\n",
    "                    print(start, '>', used_char[char], char,used_char)\n",
    "            except:\n",
    "                pass\n",
    "            max_length = max(max_length, index - start +1)\n",
    "\n",
    "        used_char[s[index]] = index\n",
    "    return max_length\n",
    "\n",
    "\n",
    "\n",
    "lols('tmmzuxt')\n"
   ]
  },
  {
   "cell_type": "code",
   "execution_count": 56,
   "metadata": {},
   "outputs": [
    {
     "data": {
      "text/plain": [
       "{'a': 3}"
      ]
     },
     "execution_count": 56,
     "metadata": {},
     "output_type": "execute_result"
    }
   ],
   "source": [
    "d = {}\n",
    "d['a'] = 2\n",
    "d['a'] += 1\n",
    "d"
   ]
  },
  {
   "cell_type": "markdown",
   "metadata": {},
   "source": [
    "foo foo\n",
    "[{f:2}, {o:2} , {o:2}]"
   ]
  },
  {
   "cell_type": "code",
   "execution_count": 69,
   "metadata": {},
   "outputs": [
    {
     "data": {
      "text/plain": [
       "['abc', 'def', 'GHI', 'JK']"
      ]
     },
     "execution_count": 69,
     "metadata": {},
     "output_type": "execute_result"
    }
   ],
   "source": [
    "def split_by_len(s, x):\n",
    "    chunk, chunk_size = len(s), len(s)//x\n",
    "    result = [s[i: i+ chunk_size] for i in range(0, chunk, chunk_size)]\n",
    "    return result\n",
    "\n",
    "split_by_len('abcdefGHIJK',3)"
   ]
  },
  {
   "cell_type": "code",
   "execution_count": 62,
   "metadata": {},
   "outputs": [
    {
     "name": "stdout",
     "output_type": "stream",
     "text": [
      "f\n",
      "b\n",
      "o\n",
      "a\n",
      "o\n",
      "r\n",
      "0\n",
      "1\n",
      "2\n",
      "passed\n",
      "f\n",
      "b\n",
      "o\n",
      "a\n",
      "o\n",
      "r\n",
      "substring too short; ending enumeration\n",
      "passed\n",
      "f\n",
      "b\n",
      "o\n",
      "a\n",
      "o\n",
      "r\n",
      "0\n",
      "substring too short; ending enumeration\n",
      "passed\n",
      "f\n",
      "f\n",
      "o\n",
      "o\n",
      "o\n",
      "o\n"
     ]
    },
    {
     "data": {
      "text/plain": [
       "[{'f': 1}, {'o': 1}, {'o': 1}]"
      ]
     },
     "execution_count": 62,
     "metadata": {},
     "output_type": "execute_result"
    }
   ],
   "source": [
    "def create_check(words):\n",
    "    '''\n",
    "    words:list -> list of dictionaries of unfilled characters\n",
    "    '''\n",
    "    result = []\n",
    "    # iteration is as long as the length of each word; we assume the word lengths are equal\n",
    "\n",
    "    for w in words:\n",
    "        for i in range(w):\n",
    "            \n",
    "    for i in range(len(words[0])):\n",
    "        subdict = {}\n",
    "        for w in words:\n",
    "            if w in subdict:\n",
    "                print('yeah')\n",
    "                subdict[w[i]] += 1\n",
    "            else:\n",
    "                subdict[w[i]] = 1\n",
    "\n",
    "        result.append(subdict)\n",
    "    return result\n",
    "\n",
    "\n",
    "def findSubstring(s:str, words:list):\n",
    "    # print(s, words)\n",
    "    # if len(words) == 0:\n",
    "    #     print('empty list of words')\n",
    "    #     return []\n",
    "    indices = []\n",
    "    # start = 0\n",
    "    # start can equal i \n",
    "    \n",
    "    # populate checks: list of dictionaries\n",
    "    check = create_check(words)\n",
    "\n",
    "\n",
    "    for start_index in range(len(s)):\n",
    "        if len(s) < len(words[0]) * len(words) + start_index:\n",
    "            print('substring too short; ending enumeration')\n",
    "            break\n",
    "        for i in range(len(words[0])):\n",
    "            temp_check = {}\n",
    "        # temp_check = {d[]}\n",
    "\n",
    "\n",
    "\n",
    "        for j in range(len(words[0])):\n",
    "            \n",
    "            pass\n",
    "        print(start_index)\n",
    "        if start_index == 2:\n",
    "            \n",
    "            break\n",
    "    \n",
    "    print('passed')\n",
    "    # return indices\n",
    "findSubstring('barfoothefoobarman',['foo','bar'])\n",
    "findSubstring('foo', ['foo','bar'])\n",
    "findSubstring('barfoo', ['foo','bar'])\n",
    "create_check(['foo','foo'])"
   ]
  },
  {
   "cell_type": "code",
   "execution_count": 55,
   "metadata": {},
   "outputs": [
    {
     "name": "stdout",
     "output_type": "stream",
     "text": [
      "a\n",
      "b\n",
      "c\n"
     ]
    }
   ],
   "source": [
    "for i, c in enumerate('abc'):\n",
    "    print()"
   ]
  },
  {
   "cell_type": "code",
   "execution_count": 50,
   "metadata": {},
   "outputs": [
    {
     "data": {
      "text/plain": [
       "True"
      ]
     },
     "execution_count": 50,
     "metadata": {},
     "output_type": "execute_result"
    }
   ],
   "source": [
    "[2,3,4] == [4,3,2]\n",
    "(2,3,4) == (4,3,2)\n",
    "{'a':1, 'b':2} == {'b':2, 'a':1}\n"
   ]
  },
  {
   "cell_type": "markdown",
   "metadata": {},
   "source": [
    "wordgoodgoodbestword, [word, word, best, good, good]\n",
    "= [0]\n"
   ]
  },
  {
   "cell_type": "code",
   "execution_count": null,
   "metadata": {},
   "outputs": [],
   "source": []
  }
 ],
 "metadata": {
  "interpreter": {
   "hash": "c6e4e9f98eb68ad3b7c296f83d20e6de614cb42e90992a65aa266555a3137d0d"
  },
  "kernelspec": {
   "display_name": "Python 3.9.7 64-bit ('base': conda)",
   "language": "python",
   "name": "python3"
  },
  "language_info": {
   "codemirror_mode": {
    "name": "ipython",
    "version": 3
   },
   "file_extension": ".py",
   "mimetype": "text/x-python",
   "name": "python",
   "nbconvert_exporter": "python",
   "pygments_lexer": "ipython3",
   "version": "3.9.7"
  },
  "orig_nbformat": 4
 },
 "nbformat": 4,
 "nbformat_minor": 2
}
